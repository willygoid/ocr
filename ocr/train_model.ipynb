{
 "cells": [
  {
   "cell_type": "code",
   "execution_count": null,
   "metadata": {},
   "outputs": [],
   "source": [
    "import numpy as np\n",
    "import pandas as pd\n",
    "\n",
    "import matplotlib.pyplot as plt\n",
    "%matplotlib inline\n",
    "\n",
    "from tensorflow import keras"
   ]
  },
  {
   "cell_type": "code",
   "execution_count": null,
   "metadata": {},
   "outputs": [],
   "source": [
    "data_path = \"emnist/\"\n",
    "\n",
    "train_data_path = data_path + \"emnist-balanced-train.csv\"\n",
    "test_data_path = data_path + \"emnist-balanced-test.csv\""
   ]
  },
  {
   "cell_type": "code",
   "execution_count": null,
   "metadata": {},
   "outputs": [],
   "source": [
    "train_df = pd.read_csv(train_data_path, header = None)\n",
    "test_df = pd.read_csv(test_data_path, header = None)"
   ]
  },
  {
   "cell_type": "code",
   "execution_count": null,
   "metadata": {},
   "outputs": [],
   "source": [
    "print(f'The train dataset contains {train_df.shape[0]} observation and {train_df.shape[1]} characterisitics (which one is dependant variable, and rest are independant variables)')"
   ]
  },
  {
   "cell_type": "code",
   "execution_count": null,
   "metadata": {},
   "outputs": [],
   "source": [
    "print(f'The test dataset contains {test_df.shape[0]} observation and {test_df.shape[1]} characterisitics')"
   ]
  },
  {
   "cell_type": "code",
   "execution_count": null,
   "metadata": {},
   "outputs": [],
   "source": [
    "train_df.sample(5, random_state = 31)"
   ]
  },
  {
   "cell_type": "code",
   "execution_count": null,
   "metadata": {},
   "outputs": [],
   "source": [
    "class_mapping = '0123456789ABCDEFGHIJKLMNOPQRSTUVWXYZabdefghnqrt'"
   ]
  },
  {
   "cell_type": "code",
   "execution_count": null,
   "metadata": {},
   "outputs": [],
   "source": [
    "def plot_image(df,row,title=None):\n",
    "    img = df.values[row, 1:].reshape([28, 28])\n",
    "    plt.imshow(img, cmap = \"Greys_r\")\n",
    "    if title is None:\n",
    "        label = class_mapping[df.values[row, 0]]\n",
    "        plt.title(f'Label = {label}')\n",
    "    else:\n",
    "        plt.title(title)\n",
    "    plt.show()"
   ]
  },
  {
   "cell_type": "code",
   "execution_count": null,
   "metadata": {},
   "outputs": [],
   "source": [
    "from random import randrange\n",
    "num = randrange(len(train_df))\n",
    "plot_image(train_df, num)"
   ]
  },
  {
   "cell_type": "code",
   "execution_count": null,
   "metadata": {},
   "outputs": [],
   "source": [
    "def plot_flipped_image(df, row, title = None):\n",
    "    img = df.values[row, 1:].reshape([28, 28])\n",
    "    img_flipped = np.transpose(img, axes = [1, 0])\n",
    "    plt.imshow(img_flipped, cmap = \"Greys_r\")\n",
    "    if title is None:\n",
    "        label = class_mapping[df.values[row, 0]]\n",
    "        plt.title(f'Label = {label}')\n",
    "    else:\n",
    "        plt.title(title)\n",
    "    plt.show()"
   ]
  },
  {
   "cell_type": "code",
   "execution_count": null,
   "metadata": {},
   "outputs": [],
   "source": [
    "plot_flipped_image(train_df, num)"
   ]
  },
  {
   "cell_type": "code",
   "execution_count": null,
   "metadata": {},
   "outputs": [],
   "source": [
    "train_X, train_y = train_df.iloc[:,1:].values, train_df.iloc[:,0].values\n",
    "test_X, test_y = test_df.iloc[:,1:].values, test_df.iloc[:,0].values"
   ]
  },
  {
   "cell_type": "code",
   "execution_count": null,
   "metadata": {},
   "outputs": [],
   "source": [
    "print(train_X.shape, train_y.shape, test_X.shape, test_y.shape)"
   ]
  },
  {
   "cell_type": "code",
   "execution_count": null,
   "metadata": {},
   "outputs": [],
   "source": [
    "img_size = int(np.sqrt(len(train_df.columns) - 1))\n",
    "def rotate(image):\n",
    "    image = image.reshape([img_size, img_size])    \n",
    "    image = np.transpose(image, axes = [1, 0])\n",
    "    return image"
   ]
  },
  {
   "cell_type": "code",
   "execution_count": null,
   "metadata": {},
   "outputs": [],
   "source": [
    "train_X = np.apply_along_axis(rotate, 1, train_X)\n",
    "\n",
    "print(train_X.shape, train_X.dtype)"
   ]
  },
  {
   "cell_type": "code",
   "execution_count": null,
   "metadata": {},
   "outputs": [],
   "source": [
    "test_X = np.apply_along_axis(rotate, 1, test_X)\n",
    "\n",
    "print(test_X.shape, test_X.dtype)"
   ]
  },
  {
   "cell_type": "code",
   "execution_count": null,
   "metadata": {},
   "outputs": [],
   "source": [
    "train_X = train_X.astype('float64')\n",
    "test_X = test_X.astype('float64')\n",
    "\n",
    "train_X /= 255.0\n",
    "test_X /= 255.0"
   ]
  },
  {
   "cell_type": "code",
   "execution_count": null,
   "metadata": {},
   "outputs": [],
   "source": [
    "for i in range(9):\n",
    "    plt.subplot(330 + (i + 1))\n",
    "    plt.imshow(train_X[i], cmap = plt.get_cmap('gray'))\n",
    "    plt.title(class_mapping[train_y[i]])"
   ]
  },
  {
   "cell_type": "code",
   "execution_count": null,
   "metadata": {},
   "outputs": [],
   "source": [
    "num_classes = len(train_df[0].unique())\n",
    "train_y = keras.utils.to_categorical(train_y, num_classes)\n",
    "test_y = keras.utils.to_categorical(test_y, num_classes)"
   ]
  },
  {
   "cell_type": "code",
   "execution_count": null,
   "metadata": {},
   "outputs": [],
   "source": [
    "train_X = train_X.reshape(-1, img_size, img_size, 1) #112800 (28x28x1) images (0-1 range)\n",
    "test_X = test_X.reshape(-1, img_size, img_size, 1) #18800 (28x28x1) images (0-1 range)\n",
    "print(train_X.shape, test_X.shape)"
   ]
  },
  {
   "cell_type": "code",
   "execution_count": null,
   "metadata": {},
   "outputs": [],
   "source": [
    "from keras import models\n",
    "from keras import layers\n",
    "\n",
    "model = models.Sequential()\n",
    "model.add(layers.Conv2D(32, kernel_size = 5, padding = 'same', activation = 'relu', input_shape = (28, 28, 1)))\n",
    "model.add(layers.MaxPooling2D(pool_size = (2, 2)))\n",
    "model.add(layers.Dropout(rate = 0.4))\n",
    "model.add(layers.Conv2D(64, kernel_size = 5, activation = 'relu'))\n",
    "model.add(layers.MaxPooling2D(pool_size = (2, 2)))\n",
    "model.add(layers.Dropout(rate = 0.4))\n",
    "model.add(layers.Conv2D(128, kernel_size = 3, activation = 'relu'))\n",
    "model.add(layers.Flatten())\n",
    "model.add(layers.Dense(256, activation = 'relu'))\n",
    "model.add(layers.Dropout(rate = 0.4))\n",
    "model.add(layers.Dense(num_classes, activation = 'softmax'))\n",
    "\n",
    "model.compile(optimizer = 'adam', loss = 'categorical_crossentropy', metrics = ['accuracy'])\n",
    "model.summary()"
   ]
  },
  {
   "cell_type": "code",
   "execution_count": null,
   "metadata": {},
   "outputs": [],
   "source": [
    "from keras.callbacks import EarlyStopping, ReduceLROnPlateau, ModelCheckpoint\n",
    "model_path = r\"../backend/prediction/models/\"\n",
    "filepath = model_path + \"model-{epoch:02d}-{val_accuracy:.4f}.h5\"\n",
    "\n",
    "MCP = ModelCheckpoint(filepath,\n",
    "                        verbose = 1,\n",
    "                        save_best_only = True,\n",
    "                        monitor = 'val_accuracy',\n",
    "                        mode = 'max')\n",
    "ES = EarlyStopping(monitor = 'val_accuracy',\n",
    "                    min_delta = 0,\n",
    "                    verbose = 1,\n",
    "                    restore_best_weights = True,\n",
    "                    patience = 3,\n",
    "                    mode = 'max')\n",
    "RLP = ReduceLROnPlateau(monitor = 'val_loss',\n",
    "                        patience = 3,\n",
    "                        factor = 0.2,\n",
    "                        min_lr = 0.0001)"
   ]
  },
  {
   "cell_type": "code",
   "execution_count": null,
   "metadata": {},
   "outputs": [],
   "source": [
    "history = model.fit(train_X, train_y, epochs = 30,\n",
    "                    validation_data = (test_X, test_y),\n",
    "                    callbacks = [MCP, ES, RLP])"
   ]
  },
  {
   "cell_type": "code",
   "execution_count": null,
   "metadata": {},
   "outputs": [],
   "source": [
    "import seaborn as sns\n",
    "\n",
    "q = len(history.history['accuracy'])\n",
    "\n",
    "plt.figsize=(10,10)\n",
    "sns.lineplot(x = range(1, 1 + q),y = history.history['accuracy'], label = 'Accuracy')\n",
    "sns.lineplot(x = range(1, 1 + q),y = history.history['val_accuracy'], label='Val_Accuracy')\n",
    "plt.xlabel('epochs')\n",
    "plt.ylabel('Accuray')"
   ]
  },
  {
   "cell_type": "code",
   "execution_count": null,
   "metadata": {},
   "outputs": [],
   "source": [
    "def plot_metric(history, metric):\n",
    "    train_metrics = history.history[metric]\n",
    "    val_metrics = history.history['val_'+metric]\n",
    "    epochs = range(1, len(train_metrics) + 1)\n",
    "    plt.plot(epochs, train_metrics)\n",
    "    plt.plot(epochs, val_metrics)\n",
    "    plt.title('Training and validation '+ metric)\n",
    "    plt.xlabel(\"Epochs\")\n",
    "    plt.ylabel(metric)\n",
    "    plt.legend([\"train_\"+metric, 'val_'+metric])\n",
    "    plt.show()"
   ]
  },
  {
   "cell_type": "code",
   "execution_count": null,
   "metadata": {},
   "outputs": [],
   "source": [
    "def run_prediction(row):\n",
    "    input_ = test_X[row].reshape(1, 28, 28, 1)\n",
    "    result = np.argmax(model.predict(input_))\n",
    "    prediction = class_mapping[result]\n",
    "    label = test_df.values[row, 0]\n",
    "    plot_flipped_image(test_df, row, title = f\"Prediction {prediction} - Label(origin) {class_mapping[label]}\")"
   ]
  },
  {
   "cell_type": "code",
   "execution_count": null,
   "metadata": {},
   "outputs": [],
   "source": [
    "def run_prediction(row):\n",
    "    input_ = test_X[row].reshape(1, 28, 28, 1)\n",
    "    result = np.argmax(model.predict(input_))\n",
    "    prediction = class_mapping[result]\n",
    "    label = test_df.values[row, 0]\n",
    "    plot_flipped_image(test_df, row, title = f\"Prediction {prediction} - Label(origin) {class_mapping[label]}\")"
   ]
  },
  {
   "cell_type": "code",
   "execution_count": null,
   "metadata": {},
   "outputs": [],
   "source": [
    "from PIL import Image\n",
    "from numpy import asarray\n",
    "import os\n",
    "\n",
    "def pred(path):\n",
    "    image = Image.open(path)\n",
    "    image = image.convert('L')\n",
    "    # convert image to numpy array\n",
    "    data = asarray(image)\n",
    "    # convert array to 28x28 array (matrix)\n",
    "    img = data.reshape([28, 28])\n",
    "    data = data.reshape(1, 28, 28, 1)\n",
    "    # normalize image\n",
    "    d = data / 255.0\n",
    "    # run prediction\n",
    "    result = np.argmax(model.predict(d))\n",
    "    prediction = class_mapping[result]\n",
    "    label = os.path.split(path)[-1].split('.')[0][0]\n",
    "    #label = label.split('.')[-1][0]\n",
    "    plt.imshow(img, cmap = \"Greys_r\")\n",
    "    plt.title(f'Prediction {prediction} - Label(origin) {label}')\n",
    "    plt.show()"
   ]
  },
  {
   "cell_type": "code",
   "execution_count": null,
   "metadata": {},
   "outputs": [],
   "source": [
    "directory = 'images/'\n",
    "\n",
    "\n",
    "for filename in os.listdir(directory):\n",
    "    f = os.path.join(directory, filename)\n",
    "\n",
    "    if os.path.isfile(f):\n",
    "        pred(f)"
   ]
  }
 ],
 "metadata": {
  "interpreter": {
   "hash": "aee8b7b246df8f9039afb4144a1f6fd8d2ca17a180786b69acc140d282b71a49"
  },
  "kernelspec": {
   "display_name": "Python 3.9.9 64-bit",
   "language": "python",
   "name": "python3"
  },
  "language_info": {
   "codemirror_mode": {
    "name": "ipython",
    "version": 3
   },
   "file_extension": ".py",
   "mimetype": "text/x-python",
   "name": "python",
   "nbconvert_exporter": "python",
   "pygments_lexer": "ipython3",
   "version": "3.9.9"
  },
  "orig_nbformat": 4
 },
 "nbformat": 4,
 "nbformat_minor": 2
}
